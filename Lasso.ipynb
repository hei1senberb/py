{
 "cells": [
  {
   "cell_type": "code",
   "execution_count": 3,
   "metadata": {},
   "outputs": [],
   "source": [
    "import pandas as pd\n",
    "import numpy as np\n",
    "\n",
    "import matplotlib.pyplot as plt\n",
    "import seaborn as sns"
   ]
  },
  {
   "cell_type": "code",
   "execution_count": 4,
   "metadata": {},
   "outputs": [
    {
     "ename": "ModuleNotFoundError",
     "evalue": "No module named 'google'",
     "output_type": "error",
     "traceback": [
      "\u001b[1;31m---------------------------------------------------------------------------\u001b[0m",
      "\u001b[1;31mModuleNotFoundError\u001b[0m                       Traceback (most recent call last)",
      "\u001b[1;32m<ipython-input-4-21dc3c638f66>\u001b[0m in \u001b[0;36m<module>\u001b[1;34m\u001b[0m\n\u001b[1;32m----> 1\u001b[1;33m \u001b[1;32mfrom\u001b[0m \u001b[0mgoogle\u001b[0m\u001b[1;33m.\u001b[0m\u001b[0mcolab\u001b[0m \u001b[1;32mimport\u001b[0m \u001b[0mfiles\u001b[0m\u001b[1;33m\u001b[0m\u001b[1;33m\u001b[0m\u001b[0m\n\u001b[0m\u001b[0;32m      2\u001b[0m \u001b[0muploaded\u001b[0m \u001b[1;33m=\u001b[0m \u001b[0mfiles\u001b[0m\u001b[1;33m.\u001b[0m\u001b[0mupload\u001b[0m\u001b[1;33m(\u001b[0m\u001b[1;33m)\u001b[0m\u001b[1;33m\u001b[0m\u001b[1;33m\u001b[0m\u001b[0m\n",
      "\u001b[1;31mModuleNotFoundError\u001b[0m: No module named 'google'"
     ]
    }
   ],
   "source": [
    "from google.colab import files\n",
    "uploaded = files.upload()"
   ]
  },
  {
   "cell_type": "code",
   "execution_count": null,
   "metadata": {},
   "outputs": [],
   "source": [
    "data=pd.read_csv('data.csv')"
   ]
  },
  {
   "cell_type": "code",
   "execution_count": null,
   "metadata": {},
   "outputs": [],
   "source": [
    "data.head()"
   ]
  },
  {
   "cell_type": "code",
   "execution_count": null,
   "metadata": {},
   "outputs": [],
   "source": [
    "m=1 # initialise to 1 so as to allow differentiation\n",
    "c=0 #initial start value of y-ntercept\n",
    "L=0.0001 #learning ratetry playing around with the value to see which ones converge\n",
    "epoch=100 #define whatever number of epochs you want but mind both efficiency and accuracy issues\n",
    "epoch_error_list=[]\n",
    "epoch_count_list=[]"
   ]
  },
  {
   "cell_type": "code",
   "execution_count": null,
   "metadata": {},
   "outputs": [],
   "source": [
    "X=data['size_in_sq_ft']\n",
    "Y=data['price_x1000_sh']\n",
    "N=float(len(X))"
   ]
  },
  {
   "cell_type": "code",
   "execution_count": null,
   "metadata": {},
   "outputs": [],
   "source": [
    "def mse(N,Y,Y_hat):#the MSE function for error computation\n",
    "  return (1/N)*sum(Y-Y_hat)**2"
   ]
  },
  {
   "cell_type": "code",
   "execution_count": null,
   "metadata": {},
   "outputs": [],
   "source": [
    "def gradient_descent_fit(m,c,N,L):#main function i.e. gradient descent to learn the line of best fit\n",
    "  epoch_error_list=[]\n",
    "  epoch_count_list=[]\n",
    "  for i in range(epoch):#loop as many times as the epochs you want\n",
    "    Y_hat = m*X+c\n",
    "    #compute and arrest error for every iteration\n",
    "    epoch_count_list=epoch_count_list[:]#trick the list to get its instace\n",
    "    epoch_count_list.append(i)\n",
    "    epoch_error=mse(N,Y,Y_hat)\n",
    "    epoch_error_list=epoch_error_list[:]\n",
    "    epoch_error_list.append(epoch_error)\n",
    "    #minimize the error function by computing partial derivatives\n",
    "    D_m=(-2/N)*sum(X*(Y-Y_hat)) - (1.5 * m/abs(m)) # modify this for L1 Regression\n",
    "    D_c=(-2/N)*sum(Y-Y_hat)\n",
    "    #Apply gradient descent formular to update both m and c into new values\n",
    "    m=m-(L * D_m)\n",
    "    c=c-(L * D_c)\n",
    "  #you can print the final m and c after all iterations are done\n",
    "  print(\"final m is: \",m,\" and final c is: \",c)\n",
    "  #return final predicted value of Y-dependent variable\n",
    "  return Y_hat,epoch_count_list,epoch_error_list"
   ]
  },
  {
   "cell_type": "code",
   "execution_count": null,
   "metadata": {},
   "outputs": [],
   "source": [
    "\n",
    "#call gradient descent fit function\n",
    "returned_params=gradient_descent_fit(m,c,N,L)\n",
    "y_predicted=returned_params[0]\n",
    "total_epochs=returned_params[1]\n",
    "all_epoch_errors=returned_params[2]\n",
    "\n",
    "#create plot for both line of best fit and error reduction graphs\n",
    "fig,(ax1,ax2)=plt.subplots(2,gridspec_kw={'top':2})\n",
    "ax1.set(xlabel=\"Office size in Sq ft\")\n",
    "ax1.set(ylabel=\"Monthly Rent in Ksh. (X1000)\")\n",
    "ax1.set_title(\"Regression Model For Nairobi Office Prices.\\n\\n Graph 1 (Main): Line of Best Fit\")\n",
    "ax1.scatter(X,Y)\n",
    "\n",
    "ax1.plot([min(X),max(X)],[min(y_predicted),max(y_predicted)],color='black')\n",
    "ax2.set_title(\"Graph 2:MSE Monitoring Error Curve\")\n",
    "ax2.set(xlabel=\"Epochs/Iteration\")\n",
    "ax2.set(ylabel=\"Mean Squared Error\")\n",
    "ax2.plot(total_epochs,all_epoch_errors)\n",
    "\n",
    "#Destroy the used lists to prevent recarpetting on append\n",
    "epoch_count_list.clear()\n",
    "epoch_error_list.clear()"
   ]
  },
  {
   "cell_type": "code",
   "execution_count": null,
   "metadata": {},
   "outputs": [],
   "source": []
  }
 ],
 "metadata": {
  "kernelspec": {
   "display_name": "Python 3",
   "language": "python",
   "name": "python3"
  },
  "language_info": {
   "codemirror_mode": {
    "name": "ipython",
    "version": 3
   },
   "file_extension": ".py",
   "mimetype": "text/x-python",
   "name": "python",
   "nbconvert_exporter": "python",
   "pygments_lexer": "ipython3",
   "version": "3.7.2"
  }
 },
 "nbformat": 4,
 "nbformat_minor": 4
}
